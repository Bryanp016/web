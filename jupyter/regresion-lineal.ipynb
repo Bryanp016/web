{
 "cells": [
  {
   "cell_type": "markdown",
   "id": "fcf52eec-2d1b-43fa-b7b6-24a7480aa4ba",
   "metadata": {},
   "source": [
    " # REGRESIÓN LINEAL"
   ]
  },
  {
   "cell_type": "markdown",
   "id": "b26b5323-480c-4c99-8d58-1c801f0eb814",
   "metadata": {},
   "source": [
    "## Calcular Regresion Lineal"
   ]
  },
  {
   "cell_type": "raw",
   "id": "0ba8c916-7865-4c6b-bf82-d72bd641191e",
   "metadata": {},
   "source": [
    "# Importar libreria numpy\n",
    "import numpy as np\n",
    "# datos experimentales\n",
    "# el DataFrame se llama movil\n",
    "exporta = {\n",
    "    'Año':[2003,2004,2005,2006,2007,2008,2009,2010,2011,2012,2013,2014,2015,2011],\n",
    "    'Exportaciones':[5501.0, 6232.7, 8118.3, 10137.00, 10449.50, 12794, 13193.00, 16036.2, 18496.90, 18709.30, 19363.50,\n",
    "     16927.00, 16927.00, 5501.0]\n",
    "}\n",
    "a = pd.DataFrame(exporta)\n",
    "x = a.index.values\n",
    "y= a[\"Exportaciones\"]\n",
    "# ajuste de la recta (polinomio de grado 1 f(x) = ax + b)\n",
    "p = np.polyfit(x,y,1) # 1 para lineal, 2 para polinomio ...\n",
    "p0,p1 = p\n",
    "print (\"El valor de p0 = \", p0, \"Valor de p1 = \", p1)"
   ]
  },
  {
   "cell_type": "raw",
   "id": "79f30cf7-1c51-41ca-b516-3a8dbae5d5d5",
   "metadata": {},
   "source": [
    "from matplotlib import pyplot as plt\n",
    "# y(x) = poX + p1 = 49.53676471X -242.41911765\n",
    "# calculamos los valores ajustados y_ajuste\n",
    "y_ajuste = p[0]*x + p[1]\n",
    "print (y_ajuste)\n",
    "# dibujamos los datos experimentales de la recta\n",
    "p_datos =plt.plot(x,y,'b.')\n",
    "# Dibujamos la recta de ajuste\n",
    "p_ajuste = plt.plot(x,y_ajuste, 'r-')\n",
    "plt.title('Ajuste lineal por mínimos cuadrados')\n",
    "plt.xlabel('Eje x')\n",
    "plt.ylabel('Eje y')\n",
    "plt.legend(('Datos experimentales','Ajuste lineal',), loc=\"upper left\")\n",
    "plt.show()\n"
   ]
  },
  {
   "cell_type": "code",
   "execution_count": null,
   "id": "439f4660-6bc5-4270-8ae7-381ee007875b",
   "metadata": {},
   "outputs": [],
   "source": []
  }
 ],
 "metadata": {
  "kernelspec": {
   "display_name": "Python 3",
   "language": "python",
   "name": "python3"
  },
  "language_info": {
   "codemirror_mode": {
    "name": "ipython",
    "version": 3
   },
   "file_extension": ".py",
   "mimetype": "text/x-python",
   "name": "python",
   "nbconvert_exporter": "python",
   "pygments_lexer": "ipython3",
   "version": "3.7.8"
  }
 },
 "nbformat": 4,
 "nbformat_minor": 5
}
