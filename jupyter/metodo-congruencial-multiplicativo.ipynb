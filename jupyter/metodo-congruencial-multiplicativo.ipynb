{
 "cells": [
  {
   "cell_type": "markdown",
   "id": "c23d2b10-3837-43c0-b6d1-06cfd461719f",
   "metadata": {},
   "source": [
    "# MÉTODOS CONGRUENCIALES MULTIPLICATIVO"
   ]
  },
  {
   "cell_type": "markdown",
   "id": "c2ce499a-8461-4ffc-a52e-f593991cf680",
   "metadata": {},
   "source": [
    "## Calcular metodo congruencial multiplicativo"
   ]
  },
  {
   "cell_type": "raw",
   "id": "814f1e8b-5c63-4500-bb42-b35358934c55",
   "metadata": {},
   "source": [
    "# generador excel-03\n",
    "# - Xn+1 = (171Xn ) (mod 30264)\n",
    "n, m, a, x0 = 20, 1000, 747, 123\n",
    "x = [1] * n\n",
    "r = [0.1] * n\n",
    "print (\" Generador Congruencial multiplicativo\")\n",
    "print (\"--------------------------------------\")\n",
    "for i in range(0, n):\n",
    " x[i] = (a*x0) % m\n",
    " x0 = x[i]\n",
    " r[i] = x0 / m\n",
    "d = {'Xn': x, 'ri': r }\n",
    "df = pd.DataFrame(data=d)\n",
    "df\n"
   ]
  },
  {
   "cell_type": "raw",
   "id": "9fe786b9-5aa6-4c3a-a0e3-c96c6fa8ac94",
   "metadata": {},
   "source": [
    "plt.plot(r,'g-', marker='o',)\n",
    "plt.title('Generador de Numeros Aleatorios ')\n",
    "plt.xlabel('Serie')\n",
    "plt.ylabel('Aleatorios')\n"
   ]
  },
  {
   "cell_type": "raw",
   "id": "e3c5eecc-4150-41f9-9e2c-79e71f704fef",
   "metadata": {},
   "source": [
    "x1 = df[\"ri\"]\n",
    "x1.plot.area()\n"
   ]
  },
  {
   "cell_type": "code",
   "execution_count": null,
   "id": "b29cd6ca-20ba-4fb8-ac21-25d257bfaae7",
   "metadata": {},
   "outputs": [],
   "source": []
  }
 ],
 "metadata": {
  "kernelspec": {
   "display_name": "Python 3",
   "language": "python",
   "name": "python3"
  },
  "language_info": {
   "codemirror_mode": {
    "name": "ipython",
    "version": 3
   },
   "file_extension": ".py",
   "mimetype": "text/x-python",
   "name": "python",
   "nbconvert_exporter": "python",
   "pygments_lexer": "ipython3",
   "version": "3.7.8"
  }
 },
 "nbformat": 4,
 "nbformat_minor": 5
}
