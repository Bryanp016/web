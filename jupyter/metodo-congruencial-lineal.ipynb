{
 "cells": [
  {
   "cell_type": "markdown",
   "id": "9c72ba17-a741-42ce-8c0c-3ed77bddbabc",
   "metadata": {},
   "source": [
    "# MÉTODOS CONGRUENCIALES LINEALES"
   ]
  },
  {
   "cell_type": "markdown",
   "id": "5d450d1b-c54f-46c6-83b8-45dfd4ba18b2",
   "metadata": {},
   "source": [
    "## Calcular metodo congruencial lineal"
   ]
  },
  {
   "cell_type": "raw",
   "id": "6fc6709c-ec2c-41b2-9778-95f751568ad8",
   "metadata": {},
   "source": [
    "# Generador de números aleatorios Congruencia lineal\n",
    "n, m, a, x0, c = 20, 1000, 101, 4, 457\n",
    "x = [1] * n\n",
    "r = [0.1] * n\n",
    "print (\" Método de Congruencia Lineal \")\n",
    "print(\"-------------------------------\")\n",
    "print (\"n=cantidad de números generados : \", n)\n",
    "print()\n",
    "print (\"m : \", m)\n",
    "print (\"a : \", a)\n",
    "print (\"c : \", c)\n",
    "print (\"Xo : \", x0 )\n",
    "for i in range(0, n):\n",
    " x[i] = ((a*x0)+c) % m\n",
    " x0 = x[i]\n",
    " r[i] = x0 / m\n",
    "# llenamos nuestro DataFrame\n",
    "d = {'Xn': x, 'ri': r }\n",
    "df = pd.DataFrame(data=d)\n",
    "df"
   ]
  },
  {
   "cell_type": "raw",
   "id": "ccc2788d-8b0d-46a6-9128-0b1f644ee465",
   "metadata": {},
   "source": [
    "# Graficamos los numeros generados\n",
    "plt.plot(r,marker='o')\n",
    "plt.title('Generador de Numeros Aleatorios ')\n",
    "plt.xlabel('Serie')\n",
    "plt.ylabel('Aleatorios')\n"
   ]
  },
  {
   "cell_type": "code",
   "execution_count": null,
   "id": "c7d125ee-3d94-4c64-8b7f-87be050fc33e",
   "metadata": {},
   "outputs": [],
   "source": []
  }
 ],
 "metadata": {
  "kernelspec": {
   "display_name": "Python 3",
   "language": "python",
   "name": "python3"
  },
  "language_info": {
   "codemirror_mode": {
    "name": "ipython",
    "version": 3
   },
   "file_extension": ".py",
   "mimetype": "text/x-python",
   "name": "python",
   "nbconvert_exporter": "python",
   "pygments_lexer": "ipython3",
   "version": "3.7.8"
  }
 },
 "nbformat": 4,
 "nbformat_minor": 5
}
