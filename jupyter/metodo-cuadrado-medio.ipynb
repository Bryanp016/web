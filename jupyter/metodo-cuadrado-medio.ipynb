{
 "cells": [
  {
   "cell_type": "markdown",
   "id": "7e5fc4b8-2d51-4a3c-bc95-7c0eaf64e89a",
   "metadata": {},
   "source": [
    "# MÉTODO DE LOS CUADRADOS MEDIOS"
   ]
  },
  {
   "cell_type": "markdown",
   "id": "0398d780-2f58-4f6a-9f89-b580d3c5d6c2",
   "metadata": {},
   "source": [
    "## Calcular Metodo Cuadrado Medio"
   ]
  },
  {
   "cell_type": "code",
   "execution_count": null,
   "id": "37a52fe6-da73-4b5b-a10a-e97f95e3ede7",
   "metadata": {},
   "outputs": [],
   "source": [
    "# Método de los cuadrados medios\n",
    "import pandas as pd\n",
    "import numpy as np\n",
    "import matplotlib.pyplot as plt\n",
    "n=100\n",
    "#r=7182 # seleccionamos el valor inicial r\n",
    "r=171 # seleccionamos el valor inicial r\n",
    "l=len(str(r)) # determinamos el número de dígitos\n",
    "lista = [] # almacenamos en una lista\n",
    "lista2 = []\n",
    "i=1\n",
    "#while len(lista) == len(set(lista)):\n",
    "while i < n:\n",
    " x=str(r*r) # Elevamos al cuadrado r\n",
    " if l % 2 == 0:\n",
    " x = x.zfill(l*2)\n",
    " else:\n",
    " x = x.zfill(l)\n",
    " y=(len(x)-l)/2\n",
    " y=int(y)\n",
    " r=int(x[y:y+l])\n",
    " lista.append(r)\n",
    " lista2.append(x)\n",
    " i=i+1\n",
    "\n",
    "df = pd.DataFrame({'X2':lista2,'Xi':lista})\n",
    "dfrac = df[\"Xi\"]/10**l\n",
    "df[\"ri\"] = dfrac\n",
    "#df.head()\n",
    "df"
   ]
  },
  {
   "cell_type": "code",
   "execution_count": null,
   "id": "497afe4f-763e-4e55-a503-2bb1ad174ae1",
   "metadata": {},
   "outputs": [],
   "source": [
    "1 df.tail()\n"
   ]
  },
  {
   "cell_type": "code",
   "execution_count": null,
   "id": "ed63dde6-0e49-454d-9fc0-cec7e8c9750c",
   "metadata": {},
   "outputs": [],
   "source": [
    "### Graficando los numeros aleatorios generados\n",
    "# seleccionamos del dataframe los nùmeros generados\n",
    "x1=df['ri']\n",
    "plt.plot(x1)\n",
    "plt.title('Generador de Numeros Aleatorios Cuadrados Medios')\n",
    "plt.xlabel('Serie')\n",
    "plt.ylabel('Aleatorios')\n",
    "plt.show()\n"
   ]
  },
  {
   "cell_type": "code",
   "execution_count": null,
   "id": "84a62b89-62c7-445c-9c83-5286b51204f1",
   "metadata": {},
   "outputs": [],
   "source": []
  }
 ],
 "metadata": {
  "kernelspec": {
   "display_name": "Python 3",
   "language": "python",
   "name": "python3"
  },
  "language_info": {
   "codemirror_mode": {
    "name": "ipython",
    "version": 3
   },
   "file_extension": ".py",
   "mimetype": "text/x-python",
   "name": "python",
   "nbconvert_exporter": "python",
   "pygments_lexer": "ipython3",
   "version": "3.7.8"
  }
 },
 "nbformat": 4,
 "nbformat_minor": 5
}
