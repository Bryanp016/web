{
 "cells": [
  {
   "cell_type": "markdown",
   "id": "0cccc448-b267-4404-b334-9350b67a855f",
   "metadata": {},
   "source": [
    "# MEDIA, MEDIANA, MODA"
   ]
  },
  {
   "cell_type": "markdown",
   "id": "2ff6b283-48af-4f64-ac5d-a2cb23dd33c7",
   "metadata": {},
   "source": [
    "- Ingresamos el documento a calcular las medidas tendencia central"
   ]
  },
  {
   "cell_type": "raw",
   "id": "4bd05496-a625-4a5a-b7f6-5b59375f5589",
   "metadata": {},
   "source": [
    "# importamos la libreria Pandas, matplotlib y numpy que van a ser de mucha utilidad\n",
    "import pandas as pd\n",
    "import matplotlib.pyplot as plt\n",
    "import numpy as np\n",
    "\n",
    "# leemos los datos de la tabla del directorio Data de trabajo\n",
    "datos = pd.read_excel('formato.xlsx')\n",
    "\n",
    "#Presentamos los datos en un DataFrame de Pandas\n",
    "datos\n",
    "\n"
   ]
  },
  {
   "cell_type": "markdown",
   "id": "d8f9e7ed-81a2-496c-98e5-390f826dc95f",
   "metadata": {},
   "source": [
    "# Calcular Media"
   ]
  },
  {
   "cell_type": "raw",
   "id": "55402b56-60f7-4875-bab6-95e85ff1e24e",
   "metadata": {},
   "source": [
    "# enviando las medias a t1, t2, t3 para su utilización\n",
    "print(\"Media:\", )\n",
    "t1, t2, t3 = datos.mean()\n",
    "print( \"la Media de TOTAL PACIENTES: \", t1)\n",
    "print( \"la Media de ATENDIDOS : \", t2)\n",
    "print( \"la Media de NO ATENDIDOS : \", t3)\n",
    "print(\"DIRECTAMENTE DEL DATAFRAME \")\n",
    "print()\n",
    "datos.mean()"
   ]
  },
  {
   "cell_type": "markdown",
   "id": "c39056ae-e654-470c-ae15-a5eba1b72e26",
   "metadata": {},
   "source": [
    "# Calcular Mediana"
   ]
  },
  {
   "cell_type": "raw",
   "id": "a3c86a1a-2a64-44ed-86b6-99466eb3b21c",
   "metadata": {},
   "source": [
    "# enviando las medias a m1, m2, m3 para su utilización\n",
    "print(\"Mediana:\", )\n",
    "m1, m2, m3 = datos.median()\n",
    "print( \"la Mediana de TOTAL PACIENTES: \", m1)\n",
    "print( \"la Mediana de ATENDIDOS : \", m2)\n",
    "print( \"la Mediana de NO ATENDIDOS : \", m3)\n",
    "print(\"DIRECTAMENTE DEL DATAFRAME \")\n",
    "print()\n",
    "datos.median()"
   ]
  },
  {
   "cell_type": "markdown",
   "id": "6b557e16-65fd-466e-8665-3d010bd94ccf",
   "metadata": {},
   "source": [
    "# Calcular Moda"
   ]
  },
  {
   "cell_type": "raw",
   "id": "9a1f0e08-6eb1-4345-8d84-cfa2d159ed50",
   "metadata": {},
   "source": [
    "print(\"Moda:\")\n",
    "mo1 = datos[\"TOTAL_PACIENTES\"].mode()\n",
    "mo2 = datos[\"ATENDIDOS\"].mode()\n",
    "mo3 = datos[\"NO_ATENDIDOS\"].mode()\n",
    "print( \"la Moda de TOTAL PACIENTES: \", mo1)\n",
    "print( \"la Moda de ATENDIDOS : \", mo2)\n",
    "print( \"la Moda de NO ATENDIDOS : \", mo3)\n",
    "pd.DataFrame(mo1,mo2,mo3)"
   ]
  },
  {
   "cell_type": "code",
   "execution_count": null,
   "id": "504201a6-86fc-4bb9-a353-f274e2631052",
   "metadata": {},
   "outputs": [],
   "source": []
  }
 ],
 "metadata": {
  "kernelspec": {
   "display_name": "Python 3",
   "language": "python",
   "name": "python3"
  },
  "language_info": {
   "codemirror_mode": {
    "name": "ipython",
    "version": 3
   },
   "file_extension": ".py",
   "mimetype": "text/x-python",
   "name": "python",
   "nbconvert_exporter": "python",
   "pygments_lexer": "ipython3",
   "version": "3.7.8"
  }
 },
 "nbformat": 4,
 "nbformat_minor": 5
}
