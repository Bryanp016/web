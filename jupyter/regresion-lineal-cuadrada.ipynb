{
 "cells": [
  {
   "cell_type": "markdown",
   "id": "dcd82444-72f1-4a85-88d7-05bf452cff50",
   "metadata": {},
   "source": [
    "# REGRESIÓN LINEAL CUADRADA"
   ]
  },
  {
   "cell_type": "markdown",
   "id": "b82401a2-b33a-4eef-bdbe-1ebb53c0601f",
   "metadata": {},
   "source": [
    "## Calcular Regresion Lineal Cuadrada"
   ]
  },
  {
   "cell_type": "raw",
   "id": "76a07889-1eb9-4b19-96f6-77b9947c692d",
   "metadata": {},
   "source": [
    "p = np.polyfit(x,y,2)\n",
    "p1,p2,p3 = p\n",
    "print (\"El valor de p0 = \", p0, \"Valor de p1 = \", p1, \" el valor de p2 = \",p2)"
   ]
  },
  {
   "cell_type": "raw",
   "id": "8f40719b-5768-45bb-9a76-e1eb99e8bda2",
   "metadata": {},
   "source": [
    "from matplotlib import pyplot as plt\n",
    "# calculamos los valores ajustados y_ajuste\n",
    "y_ajuste = p[0]*x*x + p[1]*x + p[2]\n",
    "# dibujamos los datos experimentales de la recta\n",
    "p_datos =plt.plot(x,y,'b.')\n",
    "# Dibujamos la curva de ajuste\n",
    "p_ajuste = plt.plot(x,y_ajuste, 'r-')\n",
    "plt.title('Ajuste Polinomial por mínimos cuadrados')\n",
    "plt.xlabel('Eje x')\n",
    "plt.ylabel('Eje y')\n",
    "plt.legend(('Datos experimentales','Ajuste Polinomial',), loc=\"upper left\")\n",
    "plt.show()\n"
   ]
  },
  {
   "cell_type": "raw",
   "id": "4c407a76-3c0f-4d2b-97df-7759aed73adf",
   "metadata": {},
   "source": [
    "x\n",
    "#x.size"
   ]
  },
  {
   "cell_type": "raw",
   "id": "0b4a6717-0de0-4bf8-b9cb-dde48fb9d34c",
   "metadata": {},
   "source": [
    "# 3 proyecciones de los siguientes días\n",
    "n=x.size\n",
    "x1 = []\n",
    "x2 = []\n",
    "for i in [15,16,17]:\n",
    " y1_ajuste = p[0]*i*i + p[1]*i + p[2]\n",
    " print (f\" z = {i} w = {y1_ajuste}\")\n",
    " x1.append(i)\n",
    " x2.append(y1_ajuste)\n",
    "a[\"y_ajuste\"]=y_ajuste\n",
    "dp = pd.DataFrame({'Año':[2018,2019,2020], 'Exportaciones':[0,0,0],'y_ajuste':x2})\n",
    "dp\n",
    "a = a.append(dp,ignore_index=True)\n",
    "a\n"
   ]
  },
  {
   "cell_type": "code",
   "execution_count": null,
   "id": "c7ba9273-ea3b-458e-b32a-2efd5967363f",
   "metadata": {},
   "outputs": [],
   "source": []
  }
 ],
 "metadata": {
  "kernelspec": {
   "display_name": "Python 3",
   "language": "python",
   "name": "python3"
  },
  "language_info": {
   "codemirror_mode": {
    "name": "ipython",
    "version": 3
   },
   "file_extension": ".py",
   "mimetype": "text/x-python",
   "name": "python",
   "nbconvert_exporter": "python",
   "pygments_lexer": "ipython3",
   "version": "3.7.8"
  }
 },
 "nbformat": 4,
 "nbformat_minor": 5
}
